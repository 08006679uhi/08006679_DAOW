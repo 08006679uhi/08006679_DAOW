{
  "nbformat": 4,
  "nbformat_minor": 0,
  "metadata": {
    "colab": {
      "provenance": [],
      "toc_visible": true,
      "authorship_tag": "ABX9TyOvj3aqQwaeqcGcrBLY7lkf",
      "include_colab_link": true
    },
    "kernelspec": {
      "name": "python3",
      "display_name": "Python 3"
    },
    "language_info": {
      "name": "python"
    }
  },
  "cells": [
    {
      "cell_type": "markdown",
      "metadata": {
        "id": "view-in-github",
        "colab_type": "text"
      },
      "source": [
        "<a href=\"https://colab.research.google.com/github/08006679uhi/08006679_DAOW/blob/main/Assignment2draft.ipynb\" target=\"_parent\"><img src=\"https://colab.research.google.com/assets/colab-badge.svg\" alt=\"Open In Colab\"/></a>"
      ]
    },
    {
      "cell_type": "markdown",
      "source": [
        "# Introduction"
      ],
      "metadata": {
        "id": "W6K5wo79PpOO"
      }
    },
    {
      "cell_type": "markdown",
      "source": [
        "The emergency services of New York City have tasked us with investigating the relationship between weather and the number of traffic collisions on a particular day. The aim is to build two regression models; a linear regression model and a Deep Neural Network regression model that can accurately predict the number of collisions on a particular day of the week. The models will help emergency response staff optimise their response and better allocate resources to areas where they are needed most.\n",
        "\n",
        "For this report, we will use the same data set as in the previous report, which contains information on daily weather conditions and the number of traffic collisions in New York City from 2012 to 2018. Our analysis will focus on creating and evaluating the two regression models using Python in a Colab sheet.\n",
        "\n",
        "The report will be structured as follows. First, we will describe the data set and its features. Next, we will perform exploratory data analysis to gain insights into the relationship between weather conditions and traffic collisions. After that, we will preprocess the data set by cleaning and transforming the data to prepare it for modeling. We will then create two regression models, a linear regression model, and a Deep Neural Network regression model, and evaluate their performance using various metrics. Finally, we will conclude with a discussion of our findings and suggestions for future research.\n"
      ],
      "metadata": {
        "id": "BB_ttzNvPnRG"
      }
    },
    {
      "cell_type": "markdown",
      "source": [
        "# Model Building"
      ],
      "metadata": {
        "id": "qYCpBieYPrbr"
      }
    },
    {
      "cell_type": "markdown",
      "source": [
        "For the linear regression model, we will be using TensorFlow, an open-source machine learning library that is designed for building and training deep neural networks.\n",
        "\n",
        "First, we will import the necessary libraries and read in the data using pandas:"
      ],
      "metadata": {
        "id": "pAc62nNCOZUB"
      }
    },
    {
      "cell_type": "code",
      "source": [
        "import pandas as pd\n",
        "import tensorflow as tf\n",
        "\n",
        "print(tf.__version__)\n",
        "\n",
        "# read in the data\n",
        "data = pd.read_csv('https://raw.githubusercontent.com/08006679uhi/08006679_DAOW/main/bquxjob_181230e_1872e13b261.csv')\n"
      ],
      "metadata": {
        "colab": {
          "base_uri": "https://localhost:8080/"
        },
        "id": "xodqAqN7HWyG",
        "outputId": "5c0bd340-56e5-47aa-fdc9-efa87a2c5972"
      },
      "execution_count": 48,
      "outputs": [
        {
          "output_type": "stream",
          "name": "stdout",
          "text": [
            "2.12.0\n"
          ]
        }
      ]
    },
    {
      "cell_type": "markdown",
      "source": [
        "We can now see the data that we have read in below."
      ],
      "metadata": {
        "id": "ndNf7MeyObVA"
      }
    },
    {
      "cell_type": "code",
      "source": [
        "print(data[:6])"
      ],
      "metadata": {
        "colab": {
          "base_uri": "https://localhost:8080/"
        },
        "id": "WmqyFa4aI0vr",
        "outputId": "d12fc6a4-9836-4b8a-992b-6e012f6ceee4"
      },
      "execution_count": 49,
      "outputs": [
        {
          "output_type": "stream",
          "name": "stdout",
          "text": [
            "   day  year  mo  da collision_date  temp  dewp     slp  visib  wdsp  mxpsd  \\\n",
            "0    7  2018   9  23     2018-09-23  59.8  50.2  1023.4   10.0   3.0    5.1   \n",
            "1    4  2018  12  20     2018-12-20  38.6  34.4  1020.2    9.6   5.0    7.0   \n",
            "2    2  2013  11   5     2013-11-05  43.5  30.4  1037.8   10.0   3.9    7.0   \n",
            "3    3  2012   7  11     2012-07-11  77.1  62.0  1019.9   10.0   1.9    7.0   \n",
            "4    4  2012   7  12     2012-07-12  77.4  60.2  1021.7   10.0   2.3    7.0   \n",
            "5    4  2012   8   9     2012-08-09  78.2  69.6  1013.6    9.3   2.3    7.0   \n",
            "\n",
            "    gust   max   min  prcp   sndp  fog  NUM_COLLISIONS  \n",
            "0  999.9  78.1  53.1   0.0  999.9    0             475  \n",
            "1  999.9  48.0  21.0   0.0  999.9    0             806  \n",
            "2  999.9  50.0  37.9   0.0  999.9    0             510  \n",
            "3  999.9  84.0  64.9   0.0  999.9    0             565  \n",
            "4  999.9  88.0  57.0   0.0  999.9    0             577  \n",
            "5   15.0  88.0  61.0   0.0  999.9    0             581  \n"
          ]
        }
      ]
    },
    {
      "cell_type": "markdown",
      "source": [
        "Next, we will preprocess the data by converting the categorical variables day and mo into dummy variables, and normalizing the continuous variables to have a mean of 0 and standard deviation of 1:"
      ],
      "metadata": {
        "id": "TNi64hEeOjsP"
      }
    },
    {
      "cell_type": "code",
      "source": [
        "# create dummy variables for categorical variables\n",
        "data = pd.get_dummies(data, columns=['da', 'mo'])\n",
        "\n",
        "# normalize continuous variables\n",
        "continuous_vars = ['temp', 'dewp', 'slp', 'visib', 'wdsp', 'mxpsd', 'gust', 'max', 'min', 'prcp', 'sndp']\n",
        "data[continuous_vars] = (data[continuous_vars] - data[continuous_vars].mean()) / data[continuous_vars].std()\n"
      ],
      "metadata": {
        "id": "gjzaMRCVMAA5"
      },
      "execution_count": 50,
      "outputs": []
    },
    {
      "cell_type": "markdown",
      "source": [
        "Now we can see the difference in our dataset after creating dummy variables."
      ],
      "metadata": {
        "id": "FgIqFWSwOmZv"
      }
    },
    {
      "cell_type": "code",
      "source": [
        "print(data[:6])"
      ],
      "metadata": {
        "colab": {
          "base_uri": "https://localhost:8080/"
        },
        "id": "gakEHgCnMK9b",
        "outputId": "4f299adc-9030-4991-9fab-30b67b34e273"
      },
      "execution_count": 51,
      "outputs": [
        {
          "output_type": "stream",
          "name": "stdout",
          "text": [
            "   day  year collision_date      temp      dewp       slp     visib      wdsp  \\\n",
            "0    7  2018     2018-09-23  0.529405  0.012934  0.003819  0.772015 -1.666626   \n",
            "1    4  2018     2018-12-20 -0.957860 -0.075130 -0.010213  0.588999 -1.212095   \n",
            "2    2  2013     2013-11-05 -0.614105 -0.097424  0.066965  0.772015 -1.462087   \n",
            "3    3  2012     2012-07-11  1.743070  0.078703 -0.011529  0.772015 -1.916618   \n",
            "4    4  2012     2012-07-12  1.764116  0.068671 -0.003636  0.772015 -1.825712   \n",
            "5    4  2012     2012-08-09  1.820239  0.121063 -0.039155  0.451737 -1.825712   \n",
            "\n",
            "      mxpsd      gust  ...  mo_3  mo_4  mo_5  mo_6  mo_7  mo_8  mo_9  mo_10  \\\n",
            "0 -0.417154  1.315641  ...     0     0     0     0     0     0     1      0   \n",
            "1 -0.356058  1.315641  ...     0     0     0     0     0     0     0      0   \n",
            "2 -0.356058  1.315641  ...     0     0     0     0     0     0     0      0   \n",
            "3 -0.356058  1.315641  ...     0     0     0     0     1     0     0      0   \n",
            "4 -0.356058  1.315641  ...     0     0     0     0     1     0     0      0   \n",
            "5 -0.356058 -0.786261  ...     0     0     0     0     0     1     0      0   \n",
            "\n",
            "   mo_11  mo_12  \n",
            "0      0      0  \n",
            "1      0      1  \n",
            "2      1      0  \n",
            "3      0      0  \n",
            "4      0      0  \n",
            "5      0      0  \n",
            "\n",
            "[6 rows x 59 columns]\n"
          ]
        }
      ]
    },
    {
      "cell_type": "markdown",
      "source": [
        "Now, we can split the data into training and testing sets, with 80% of the data for training and 20% for testing:"
      ],
      "metadata": {
        "id": "biFHSFH6OvhG"
      }
    },
    {
      "cell_type": "code",
      "source": [
        "# split data into training and testing sets\n",
        "train_data = data.sample(frac=0.8, random_state=42)\n",
        "test_data = data.drop(train_data.index)\n",
        "\n",
        "# separate features and labels\n",
        "train_features = train_data.drop(['collision_date', 'NUM_COLLISIONS'], axis=1)\n",
        "train_labels = train_data['NUM_COLLISIONS']\n",
        "test_features = test_data.drop(['collision_date', 'NUM_COLLISIONS'], axis=1)\n",
        "test_labels = test_data['NUM_COLLISIONS']\n"
      ],
      "metadata": {
        "id": "QN5ykewnHvMt"
      },
      "execution_count": 52,
      "outputs": []
    },
    {
      "cell_type": "markdown",
      "source": [
        "Now, we can build the linear regression model using TensorFlow's Sequential model:"
      ],
      "metadata": {
        "id": "i4H35BUrOx7U"
      }
    },
    {
      "cell_type": "code",
      "source": [
        "# build linear regression model\n",
        "model = tf.keras.Sequential([\n",
        "    tf.keras.layers.Dense(units=1, input_shape=[train_features.shape[1]])\n",
        "])\n",
        "\n",
        "# compile the model\n",
        "model.compile(loss='mean_squared_error', optimizer=tf.keras.optimizers.Adam())\n"
      ],
      "metadata": {
        "id": "KAltzlfLMteU"
      },
      "execution_count": 53,
      "outputs": []
    },
    {
      "cell_type": "markdown",
      "source": [
        "We have used the mean squared error loss function and the Adam optimizer, which is a stochastic gradient descent method that is well-suited for large datasets.\n",
        "\n",
        "Finally, we can train the model using the training data:"
      ],
      "metadata": {
        "id": "jyBgg_fzO0mJ"
      }
    },
    {
      "cell_type": "code",
      "source": [
        "# train the model\n",
        "history = model.fit(train_features, train_labels, epochs=100, validation_split=0.2)\n"
      ],
      "metadata": {
        "colab": {
          "base_uri": "https://localhost:8080/"
        },
        "id": "oMV7la4DM0an",
        "outputId": "79eb6299-1452-48a8-e1f1-32e8b90eeff2"
      },
      "execution_count": 54,
      "outputs": [
        {
          "output_type": "stream",
          "name": "stdout",
          "text": [
            "Epoch 1/100\n",
            "63/63 [==============================] - 1s 4ms/step - loss: 114044.1484 - val_loss: 89056.2812\n",
            "Epoch 2/100\n",
            "63/63 [==============================] - 0s 3ms/step - loss: 59289.3477 - val_loss: 47077.2461\n",
            "Epoch 3/100\n",
            "63/63 [==============================] - 0s 2ms/step - loss: 33360.1953 - val_loss: 28063.9629\n",
            "Epoch 4/100\n",
            "63/63 [==============================] - 0s 2ms/step - loss: 23369.4609 - val_loss: 20633.3262\n",
            "Epoch 5/100\n",
            "63/63 [==============================] - 0s 2ms/step - loss: 20431.1973 - val_loss: 18140.7812\n",
            "Epoch 6/100\n",
            "63/63 [==============================] - 0s 2ms/step - loss: 19730.2559 - val_loss: 17370.4590\n",
            "Epoch 7/100\n",
            "63/63 [==============================] - 0s 3ms/step - loss: 19587.6641 - val_loss: 17114.5605\n",
            "Epoch 8/100\n",
            "63/63 [==============================] - 0s 2ms/step - loss: 19550.7383 - val_loss: 16981.7363\n",
            "Epoch 9/100\n",
            "63/63 [==============================] - 0s 3ms/step - loss: 19545.4004 - val_loss: 16929.7305\n",
            "Epoch 10/100\n",
            "63/63 [==============================] - 0s 2ms/step - loss: 19548.3379 - val_loss: 16933.9258\n",
            "Epoch 11/100\n",
            "63/63 [==============================] - 0s 4ms/step - loss: 19541.9648 - val_loss: 16923.6973\n",
            "Epoch 12/100\n",
            "63/63 [==============================] - 0s 3ms/step - loss: 19535.5742 - val_loss: 16933.9961\n",
            "Epoch 13/100\n",
            "63/63 [==============================] - 0s 3ms/step - loss: 19529.7090 - val_loss: 16920.9570\n",
            "Epoch 14/100\n",
            "63/63 [==============================] - 0s 3ms/step - loss: 19529.1172 - val_loss: 16892.8242\n",
            "Epoch 15/100\n",
            "63/63 [==============================] - 0s 3ms/step - loss: 19524.4844 - val_loss: 16907.8613\n",
            "Epoch 16/100\n",
            "63/63 [==============================] - 0s 3ms/step - loss: 19521.8457 - val_loss: 16929.0918\n",
            "Epoch 17/100\n",
            "63/63 [==============================] - 0s 4ms/step - loss: 19526.7539 - val_loss: 16886.3730\n",
            "Epoch 18/100\n",
            "63/63 [==============================] - 0s 4ms/step - loss: 19518.9395 - val_loss: 16930.4570\n",
            "Epoch 19/100\n",
            "63/63 [==============================] - 0s 3ms/step - loss: 19515.4043 - val_loss: 16880.8984\n",
            "Epoch 20/100\n",
            "63/63 [==============================] - 0s 4ms/step - loss: 19512.8418 - val_loss: 16855.6562\n",
            "Epoch 21/100\n",
            "63/63 [==============================] - 0s 4ms/step - loss: 19499.3379 - val_loss: 17016.4746\n",
            "Epoch 22/100\n",
            "63/63 [==============================] - 0s 3ms/step - loss: 19504.0586 - val_loss: 16985.6719\n",
            "Epoch 23/100\n",
            "63/63 [==============================] - 0s 3ms/step - loss: 19496.8711 - val_loss: 16929.4355\n",
            "Epoch 24/100\n",
            "63/63 [==============================] - 0s 2ms/step - loss: 19545.6191 - val_loss: 17136.2793\n",
            "Epoch 25/100\n",
            "63/63 [==============================] - 0s 2ms/step - loss: 19505.5645 - val_loss: 16974.6426\n",
            "Epoch 26/100\n",
            "63/63 [==============================] - 0s 2ms/step - loss: 19490.8730 - val_loss: 16917.1680\n",
            "Epoch 27/100\n",
            "63/63 [==============================] - 0s 2ms/step - loss: 19480.2656 - val_loss: 17018.8438\n",
            "Epoch 28/100\n",
            "63/63 [==============================] - 0s 2ms/step - loss: 19481.7129 - val_loss: 16873.0820\n",
            "Epoch 29/100\n",
            "63/63 [==============================] - 0s 3ms/step - loss: 19477.5039 - val_loss: 16911.3418\n",
            "Epoch 30/100\n",
            "63/63 [==============================] - 0s 3ms/step - loss: 19478.2598 - val_loss: 17022.2910\n",
            "Epoch 31/100\n",
            "63/63 [==============================] - 0s 2ms/step - loss: 19471.6641 - val_loss: 16898.1406\n",
            "Epoch 32/100\n",
            "63/63 [==============================] - 0s 2ms/step - loss: 19457.8809 - val_loss: 17047.3320\n",
            "Epoch 33/100\n",
            "63/63 [==============================] - 0s 2ms/step - loss: 19469.5957 - val_loss: 16817.7754\n",
            "Epoch 34/100\n",
            "63/63 [==============================] - 0s 2ms/step - loss: 19476.0957 - val_loss: 16769.7109\n",
            "Epoch 35/100\n",
            "63/63 [==============================] - 0s 2ms/step - loss: 19464.1504 - val_loss: 16833.0273\n",
            "Epoch 36/100\n",
            "63/63 [==============================] - 0s 2ms/step - loss: 19456.3750 - val_loss: 16950.8672\n",
            "Epoch 37/100\n",
            "63/63 [==============================] - 0s 2ms/step - loss: 19445.9141 - val_loss: 16760.3672\n",
            "Epoch 38/100\n",
            "63/63 [==============================] - 0s 2ms/step - loss: 19440.4219 - val_loss: 16856.6836\n",
            "Epoch 39/100\n",
            "63/63 [==============================] - 0s 3ms/step - loss: 19459.8457 - val_loss: 16747.1387\n",
            "Epoch 40/100\n",
            "63/63 [==============================] - 0s 2ms/step - loss: 19439.5762 - val_loss: 16822.8008\n",
            "Epoch 41/100\n",
            "63/63 [==============================] - 0s 2ms/step - loss: 19432.3145 - val_loss: 17077.2852\n",
            "Epoch 42/100\n",
            "63/63 [==============================] - 0s 2ms/step - loss: 19439.0801 - val_loss: 16937.7754\n",
            "Epoch 43/100\n",
            "63/63 [==============================] - 0s 3ms/step - loss: 19426.9707 - val_loss: 17064.8105\n",
            "Epoch 44/100\n",
            "63/63 [==============================] - 0s 2ms/step - loss: 19435.1152 - val_loss: 17131.9766\n",
            "Epoch 45/100\n",
            "63/63 [==============================] - 0s 2ms/step - loss: 19427.4648 - val_loss: 17105.3477\n",
            "Epoch 46/100\n",
            "63/63 [==============================] - 0s 2ms/step - loss: 19435.0703 - val_loss: 16955.3418\n",
            "Epoch 47/100\n",
            "63/63 [==============================] - 0s 2ms/step - loss: 19414.7715 - val_loss: 16996.1055\n",
            "Epoch 48/100\n",
            "63/63 [==============================] - 0s 2ms/step - loss: 19412.2402 - val_loss: 16809.3594\n",
            "Epoch 49/100\n",
            "63/63 [==============================] - 0s 2ms/step - loss: 19391.0840 - val_loss: 16772.4805\n",
            "Epoch 50/100\n",
            "63/63 [==============================] - 0s 3ms/step - loss: 19386.4277 - val_loss: 17091.8145\n",
            "Epoch 51/100\n",
            "63/63 [==============================] - 0s 2ms/step - loss: 19407.7852 - val_loss: 17110.4980\n",
            "Epoch 52/100\n",
            "63/63 [==============================] - 0s 3ms/step - loss: 19390.8438 - val_loss: 16732.5156\n",
            "Epoch 53/100\n",
            "63/63 [==============================] - 0s 2ms/step - loss: 19398.2969 - val_loss: 16975.6660\n",
            "Epoch 54/100\n",
            "63/63 [==============================] - 0s 2ms/step - loss: 19373.9277 - val_loss: 16573.2695\n",
            "Epoch 55/100\n",
            "63/63 [==============================] - 0s 2ms/step - loss: 19404.8027 - val_loss: 16686.8242\n",
            "Epoch 56/100\n",
            "63/63 [==============================] - 0s 3ms/step - loss: 19392.9141 - val_loss: 16880.8008\n",
            "Epoch 57/100\n",
            "63/63 [==============================] - 0s 2ms/step - loss: 19372.6367 - val_loss: 16457.0254\n",
            "Epoch 58/100\n",
            "63/63 [==============================] - 0s 2ms/step - loss: 19363.7520 - val_loss: 17244.9941\n",
            "Epoch 59/100\n",
            "63/63 [==============================] - 0s 2ms/step - loss: 19385.7168 - val_loss: 16815.5352\n",
            "Epoch 60/100\n",
            "63/63 [==============================] - 0s 2ms/step - loss: 19359.3887 - val_loss: 16962.5078\n",
            "Epoch 61/100\n",
            "63/63 [==============================] - 0s 3ms/step - loss: 19374.5605 - val_loss: 16865.6113\n",
            "Epoch 62/100\n",
            "63/63 [==============================] - 0s 2ms/step - loss: 19363.5762 - val_loss: 16828.7148\n",
            "Epoch 63/100\n",
            "63/63 [==============================] - 0s 3ms/step - loss: 19342.7227 - val_loss: 17174.4375\n",
            "Epoch 64/100\n",
            "63/63 [==============================] - 0s 2ms/step - loss: 19395.8281 - val_loss: 17242.7734\n",
            "Epoch 65/100\n",
            "63/63 [==============================] - 0s 2ms/step - loss: 19355.9648 - val_loss: 16745.1660\n",
            "Epoch 66/100\n",
            "63/63 [==============================] - 0s 3ms/step - loss: 19361.1641 - val_loss: 16783.7656\n",
            "Epoch 67/100\n",
            "63/63 [==============================] - 0s 2ms/step - loss: 19327.6836 - val_loss: 16734.7012\n",
            "Epoch 68/100\n",
            "63/63 [==============================] - 0s 2ms/step - loss: 19322.5254 - val_loss: 16906.0273\n",
            "Epoch 69/100\n",
            "63/63 [==============================] - 0s 2ms/step - loss: 19317.5586 - val_loss: 16971.7129\n",
            "Epoch 70/100\n",
            "63/63 [==============================] - 0s 2ms/step - loss: 19322.7734 - val_loss: 16977.1094\n",
            "Epoch 71/100\n",
            "63/63 [==============================] - 0s 2ms/step - loss: 19322.2500 - val_loss: 16872.1172\n",
            "Epoch 72/100\n",
            "63/63 [==============================] - 0s 2ms/step - loss: 19318.5059 - val_loss: 16865.2148\n",
            "Epoch 73/100\n",
            "63/63 [==============================] - 0s 2ms/step - loss: 19305.6152 - val_loss: 16724.7520\n",
            "Epoch 74/100\n",
            "63/63 [==============================] - 0s 2ms/step - loss: 19304.3789 - val_loss: 17005.6289\n",
            "Epoch 75/100\n",
            "63/63 [==============================] - 0s 2ms/step - loss: 19300.8047 - val_loss: 16898.6797\n",
            "Epoch 76/100\n",
            "63/63 [==============================] - 0s 2ms/step - loss: 19295.9473 - val_loss: 17005.3340\n",
            "Epoch 77/100\n",
            "63/63 [==============================] - 0s 2ms/step - loss: 19301.8633 - val_loss: 16510.3691\n",
            "Epoch 78/100\n",
            "63/63 [==============================] - 0s 2ms/step - loss: 19313.3125 - val_loss: 17070.8203\n",
            "Epoch 79/100\n",
            "63/63 [==============================] - 0s 2ms/step - loss: 19312.8418 - val_loss: 16812.4570\n",
            "Epoch 80/100\n",
            "63/63 [==============================] - 0s 2ms/step - loss: 19272.0762 - val_loss: 17030.6680\n",
            "Epoch 81/100\n",
            "63/63 [==============================] - 0s 3ms/step - loss: 19268.2090 - val_loss: 16662.1035\n",
            "Epoch 82/100\n",
            "63/63 [==============================] - 0s 2ms/step - loss: 19274.8066 - val_loss: 16857.6426\n",
            "Epoch 83/100\n",
            "63/63 [==============================] - 0s 2ms/step - loss: 19276.4648 - val_loss: 16891.8242\n",
            "Epoch 84/100\n",
            "63/63 [==============================] - 0s 2ms/step - loss: 19281.3242 - val_loss: 16812.0586\n",
            "Epoch 85/100\n",
            "63/63 [==============================] - 0s 2ms/step - loss: 19274.7539 - val_loss: 17051.8711\n",
            "Epoch 86/100\n",
            "63/63 [==============================] - 0s 2ms/step - loss: 19301.6250 - val_loss: 17214.9883\n",
            "Epoch 87/100\n",
            "63/63 [==============================] - 0s 2ms/step - loss: 19248.7207 - val_loss: 16670.0742\n",
            "Epoch 88/100\n",
            "63/63 [==============================] - 0s 3ms/step - loss: 19307.5469 - val_loss: 16644.6484\n",
            "Epoch 89/100\n",
            "63/63 [==============================] - 0s 4ms/step - loss: 19256.1992 - val_loss: 16744.3984\n",
            "Epoch 90/100\n",
            "63/63 [==============================] - 0s 3ms/step - loss: 19231.1816 - val_loss: 17143.1094\n",
            "Epoch 91/100\n",
            "63/63 [==============================] - 0s 3ms/step - loss: 19253.0684 - val_loss: 16634.2129\n",
            "Epoch 92/100\n",
            "63/63 [==============================] - 0s 4ms/step - loss: 19270.6426 - val_loss: 16750.8301\n",
            "Epoch 93/100\n",
            "63/63 [==============================] - 0s 4ms/step - loss: 19241.2363 - val_loss: 16589.3281\n",
            "Epoch 94/100\n",
            "63/63 [==============================] - 0s 4ms/step - loss: 19240.7988 - val_loss: 17027.9805\n",
            "Epoch 95/100\n",
            "63/63 [==============================] - 0s 3ms/step - loss: 19220.7617 - val_loss: 16685.8281\n",
            "Epoch 96/100\n",
            "63/63 [==============================] - 0s 3ms/step - loss: 19237.3906 - val_loss: 16967.9609\n",
            "Epoch 97/100\n",
            "63/63 [==============================] - 0s 4ms/step - loss: 19236.5918 - val_loss: 16633.0488\n",
            "Epoch 98/100\n",
            "63/63 [==============================] - 0s 4ms/step - loss: 19230.1953 - val_loss: 16574.5215\n",
            "Epoch 99/100\n",
            "63/63 [==============================] - 0s 4ms/step - loss: 19256.8457 - val_loss: 16780.4121\n",
            "Epoch 100/100\n",
            "63/63 [==============================] - 0s 3ms/step - loss: 19220.8457 - val_loss: 16635.5156\n"
          ]
        }
      ]
    },
    {
      "cell_type": "markdown",
      "source": [
        "We have trained the model for 100 epochs and used a validation split of 0.2, meaning that 20% of the training data is held out for validation.\n",
        "\n",
        "In the next subsection, we will evaluate the performance of this model."
      ],
      "metadata": {
        "id": "CahnLFK-O2i5"
      }
    },
    {
      "cell_type": "markdown",
      "source": [
        "**Deep Neural Network**"
      ],
      "metadata": {
        "id": "Se-RshK4YdkK"
      }
    },
    {
      "cell_type": "markdown",
      "source": [
        "For the Deep Neural Network (DNN) regression model, we will be using the same dataset as before, consisting of weather data and the number of traffic collisions on a particular day. The objective is to build a DNN regression model that can predict the number of collisions on a particular day of the week based on weather data.\n",
        "\n",
        "The steps for building a DNN regression model are similar to those for building a linear regression model. However, instead of simply fitting a line to the data, we will be using a DNN to learn a more complex relationship between the input variables and the output.\n",
        "\n",
        "Here are the steps we will follow to build our DNN regression model:\n",
        "\n",
        "  -Load the data\n",
        "\n",
        "  -Split the data into training and testing sets\n",
        "\n",
        "  -Normalize the data\n",
        "\n",
        "  -Build the DNN model\n",
        "\n",
        "  -Train the model\n",
        "\n",
        "Let's go through each of these steps.\n"
      ],
      "metadata": {
        "id": "gY4N7sMJHVdy"
      }
    },
    {
      "cell_type": "markdown",
      "source": [
        "**Load the data**\n",
        "\n",
        "First, we need to load the data into a Pandas dataframe:"
      ],
      "metadata": {
        "id": "Q4uNWB9sRnd_"
      }
    },
    {
      "cell_type": "code",
      "source": [
        "import pandas as pd\n",
        "\n",
        "url = \"https://raw.githubusercontent.com/08006679uhi/08006679_DAOW/main/bquxjob_181230e_1872e13b261.csv\"\n",
        "df = pd.read_csv(url)\n",
        "\n",
        "# drop unnecessary columns\n",
        "df = df.drop(['year', 'mo', 'da', 'collision_date'], axis=1)\n",
        "\n",
        "# convert date to day of the week\n",
        "df['day'] = pd.to_datetime(df['day']).dt.day_name()\n",
        "\n",
        "# one-hot encode day of the week\n",
        "df = pd.get_dummies(df, columns=['day'])\n",
        "\n",
        "# split data into features and target variable\n",
        "X = df.drop(['NUM_COLLISIONS'], axis=1)\n",
        "y = df['NUM_COLLISIONS']"
      ],
      "metadata": {
        "id": "GHzWTT6oQypr"
      },
      "execution_count": 55,
      "outputs": []
    },
    {
      "cell_type": "markdown",
      "source": [
        "**Split the data into training and testing sets**\n",
        "\n",
        "Next, we need to split the data into training and testing sets:"
      ],
      "metadata": {
        "id": "sBY-g_8WHVbR"
      }
    },
    {
      "cell_type": "code",
      "source": [
        "from sklearn.model_selection import train_test_split\n",
        "\n",
        "X_train, X_test, y_train, y_test = train_test_split(X, y, test_size=0.2, random_state=42)\n"
      ],
      "metadata": {
        "id": "Gm9m_LRaRE8B"
      },
      "execution_count": 56,
      "outputs": []
    },
    {
      "cell_type": "markdown",
      "source": [
        "**Normalize the data**\n",
        "\n",
        "Since the input variables have different scales, we need to normalize the data so that each variable has a similar range of values. We will use the StandardScaler from scikit-learn to normalize the data:"
      ],
      "metadata": {
        "id": "L_-f6UDoHVYu"
      }
    },
    {
      "cell_type": "code",
      "source": [
        "from sklearn.preprocessing import StandardScaler\n",
        "\n",
        "scaler = StandardScaler()\n",
        "X_train = scaler.fit_transform(X_train)\n",
        "X_test = scaler.transform(X_test)"
      ],
      "metadata": {
        "id": "iY3Uvj-WRJX5"
      },
      "execution_count": 57,
      "outputs": []
    },
    {
      "cell_type": "markdown",
      "source": [
        "**Build the DNN model**\n",
        "\n",
        "Now we can build the DNN model using the Keras API:"
      ],
      "metadata": {
        "id": "gfDvd1kqHVVz"
      }
    },
    {
      "cell_type": "code",
      "source": [
        "from tensorflow.keras.models import Sequential\n",
        "from tensorflow.keras.layers import Dense, Dropout\n",
        "\n",
        "model1 = Sequential()\n",
        "model1.add(Dense(64, input_shape=(X_train.shape[1],), activation='relu'))\n",
        "model1.add(Dropout(0.2))\n",
        "model1.add(Dense(32, activation='relu'))\n",
        "model1.add(Dropout(0.2))\n",
        "model1.add(Dense(1, activation='linear'))\n",
        "model1.summary()"
      ],
      "metadata": {
        "colab": {
          "base_uri": "https://localhost:8080/"
        },
        "id": "zB341Z2jRNqI",
        "outputId": "3e03e695-9f4d-41f7-85b1-1cc57747e79a"
      },
      "execution_count": 58,
      "outputs": [
        {
          "output_type": "stream",
          "name": "stdout",
          "text": [
            "Model: \"sequential_3\"\n",
            "_________________________________________________________________\n",
            " Layer (type)                Output Shape              Param #   \n",
            "=================================================================\n",
            " dense_5 (Dense)             (None, 64)                896       \n",
            "                                                                 \n",
            " dropout_2 (Dropout)         (None, 64)                0         \n",
            "                                                                 \n",
            " dense_6 (Dense)             (None, 32)                2080      \n",
            "                                                                 \n",
            " dropout_3 (Dropout)         (None, 32)                0         \n",
            "                                                                 \n",
            " dense_7 (Dense)             (None, 1)                 33        \n",
            "                                                                 \n",
            "=================================================================\n",
            "Total params: 3,009\n",
            "Trainable params: 3,009\n",
            "Non-trainable params: 0\n",
            "_________________________________________________________________\n"
          ]
        }
      ]
    },
    {
      "cell_type": "markdown",
      "source": [
        "In this example, we have used a DNN with two hidden layers, each with a ReLU activation function and a dropout layer to prevent overfitting."
      ],
      "metadata": {
        "id": "l7lSfSh9HVTR"
      }
    },
    {
      "cell_type": "markdown",
      "source": [
        "**Train the model**\n",
        "\n",
        "To train the model, we need to compile it with a loss function and an optimizer, and then fit it to the training data:"
      ],
      "metadata": {
        "id": "jRqYaX72Rs5b"
      }
    },
    {
      "cell_type": "code",
      "source": [
        "model1.compile(loss='mse', optimizer='adam')\n",
        "\n",
        "history = model1.fit(X_train, y_train, batch_size=32, epochs=100, validation_data=(X_test, y_test))\n"
      ],
      "metadata": {
        "colab": {
          "base_uri": "https://localhost:8080/"
        },
        "id": "VVEnfsexRSLi",
        "outputId": "4a6b2665-8547-4596-dfab-5a4ca233fb24"
      },
      "execution_count": 60,
      "outputs": [
        {
          "output_type": "stream",
          "name": "stdout",
          "text": [
            "Epoch 1/100\n",
            "78/78 [==============================] - 3s 5ms/step - loss: 334885.0000 - val_loss: 322367.7188\n",
            "Epoch 2/100\n",
            "78/78 [==============================] - 0s 3ms/step - loss: 321420.7812 - val_loss: 294771.5938\n",
            "Epoch 3/100\n",
            "78/78 [==============================] - 0s 3ms/step - loss: 270514.9062 - val_loss: 215808.6406\n",
            "Epoch 4/100\n",
            "78/78 [==============================] - 0s 3ms/step - loss: 174426.5781 - val_loss: 110562.4922\n",
            "Epoch 5/100\n",
            "78/78 [==============================] - 0s 3ms/step - loss: 92465.0391 - val_loss: 57568.4375\n",
            "Epoch 6/100\n",
            "78/78 [==============================] - 0s 3ms/step - loss: 62583.6445 - val_loss: 45827.7070\n",
            "Epoch 7/100\n",
            "78/78 [==============================] - 0s 3ms/step - loss: 53574.7969 - val_loss: 39750.3516\n",
            "Epoch 8/100\n",
            "78/78 [==============================] - 0s 3ms/step - loss: 46217.3867 - val_loss: 34725.9922\n",
            "Epoch 9/100\n",
            "78/78 [==============================] - 0s 3ms/step - loss: 41178.7070 - val_loss: 31060.8320\n",
            "Epoch 10/100\n",
            "78/78 [==============================] - 0s 3ms/step - loss: 39768.3672 - val_loss: 28396.8594\n",
            "Epoch 11/100\n",
            "78/78 [==============================] - 0s 2ms/step - loss: 36186.8008 - val_loss: 26550.0000\n",
            "Epoch 12/100\n",
            "78/78 [==============================] - 0s 3ms/step - loss: 34250.3594 - val_loss: 25210.7500\n",
            "Epoch 13/100\n",
            "78/78 [==============================] - 0s 3ms/step - loss: 33639.0859 - val_loss: 24269.4355\n",
            "Epoch 14/100\n",
            "78/78 [==============================] - 0s 3ms/step - loss: 31849.3555 - val_loss: 23580.6953\n",
            "Epoch 15/100\n",
            "78/78 [==============================] - 0s 3ms/step - loss: 30937.3691 - val_loss: 23032.9219\n",
            "Epoch 16/100\n",
            "78/78 [==============================] - 0s 3ms/step - loss: 29685.7480 - val_loss: 22653.0586\n",
            "Epoch 17/100\n",
            "78/78 [==============================] - 0s 3ms/step - loss: 29939.3691 - val_loss: 22317.8418\n",
            "Epoch 18/100\n",
            "78/78 [==============================] - 0s 2ms/step - loss: 28819.2910 - val_loss: 22069.7500\n",
            "Epoch 19/100\n",
            "78/78 [==============================] - 0s 3ms/step - loss: 29773.1152 - val_loss: 21835.5938\n",
            "Epoch 20/100\n",
            "78/78 [==============================] - 0s 3ms/step - loss: 29711.7480 - val_loss: 21662.3320\n",
            "Epoch 21/100\n",
            "78/78 [==============================] - 0s 3ms/step - loss: 28839.9414 - val_loss: 21519.8145\n",
            "Epoch 22/100\n",
            "78/78 [==============================] - 0s 3ms/step - loss: 28084.7988 - val_loss: 21374.9043\n",
            "Epoch 23/100\n",
            "78/78 [==============================] - 0s 3ms/step - loss: 27738.3926 - val_loss: 21286.0684\n",
            "Epoch 24/100\n",
            "78/78 [==============================] - 0s 2ms/step - loss: 27118.8633 - val_loss: 21178.4414\n",
            "Epoch 25/100\n",
            "78/78 [==============================] - 0s 3ms/step - loss: 28085.9902 - val_loss: 21130.1719\n",
            "Epoch 26/100\n",
            "78/78 [==============================] - 0s 3ms/step - loss: 27900.1582 - val_loss: 21084.2773\n",
            "Epoch 27/100\n",
            "78/78 [==============================] - 0s 3ms/step - loss: 27005.4961 - val_loss: 21025.3008\n",
            "Epoch 28/100\n",
            "78/78 [==============================] - 0s 2ms/step - loss: 26835.5645 - val_loss: 20939.5273\n",
            "Epoch 29/100\n",
            "78/78 [==============================] - 0s 2ms/step - loss: 27613.0273 - val_loss: 20863.4434\n",
            "Epoch 30/100\n",
            "78/78 [==============================] - 0s 3ms/step - loss: 26931.4570 - val_loss: 20750.7500\n",
            "Epoch 31/100\n",
            "78/78 [==============================] - 0s 3ms/step - loss: 26771.1621 - val_loss: 20714.7715\n",
            "Epoch 32/100\n",
            "78/78 [==============================] - 0s 3ms/step - loss: 25690.1055 - val_loss: 20745.2051\n",
            "Epoch 33/100\n",
            "78/78 [==============================] - 0s 3ms/step - loss: 26314.3848 - val_loss: 20687.6855\n",
            "Epoch 34/100\n",
            "78/78 [==============================] - 0s 3ms/step - loss: 25731.8203 - val_loss: 20632.7812\n",
            "Epoch 35/100\n",
            "78/78 [==============================] - 0s 3ms/step - loss: 27741.3438 - val_loss: 20619.5410\n",
            "Epoch 36/100\n",
            "78/78 [==============================] - 0s 2ms/step - loss: 26053.9727 - val_loss: 20563.0820\n",
            "Epoch 37/100\n",
            "78/78 [==============================] - 0s 2ms/step - loss: 26491.4531 - val_loss: 20533.0859\n",
            "Epoch 38/100\n",
            "78/78 [==============================] - 0s 2ms/step - loss: 26771.0605 - val_loss: 20471.3262\n",
            "Epoch 39/100\n",
            "78/78 [==============================] - 0s 2ms/step - loss: 26313.9453 - val_loss: 20499.7812\n",
            "Epoch 40/100\n",
            "78/78 [==============================] - 0s 3ms/step - loss: 25990.9492 - val_loss: 20434.4141\n",
            "Epoch 41/100\n",
            "78/78 [==============================] - 0s 4ms/step - loss: 25381.3730 - val_loss: 20537.1699\n",
            "Epoch 42/100\n",
            "78/78 [==============================] - 0s 4ms/step - loss: 24779.9883 - val_loss: 20491.4297\n",
            "Epoch 43/100\n",
            "78/78 [==============================] - 1s 19ms/step - loss: 26571.5039 - val_loss: 20386.3809\n",
            "Epoch 44/100\n",
            "78/78 [==============================] - 1s 13ms/step - loss: 25895.7031 - val_loss: 20307.3594\n",
            "Epoch 45/100\n",
            "78/78 [==============================] - 0s 3ms/step - loss: 26087.5410 - val_loss: 20377.7734\n",
            "Epoch 46/100\n",
            "78/78 [==============================] - 0s 2ms/step - loss: 25965.6035 - val_loss: 20303.3457\n",
            "Epoch 47/100\n",
            "78/78 [==============================] - 0s 2ms/step - loss: 26315.3906 - val_loss: 20245.1211\n",
            "Epoch 48/100\n",
            "78/78 [==============================] - 0s 3ms/step - loss: 25396.1523 - val_loss: 20328.3438\n",
            "Epoch 49/100\n",
            "78/78 [==============================] - 0s 3ms/step - loss: 26471.5547 - val_loss: 20221.2461\n",
            "Epoch 50/100\n",
            "78/78 [==============================] - 0s 2ms/step - loss: 25859.3203 - val_loss: 20230.3496\n",
            "Epoch 51/100\n",
            "78/78 [==============================] - 0s 3ms/step - loss: 26119.6797 - val_loss: 20196.2637\n",
            "Epoch 52/100\n",
            "78/78 [==============================] - 0s 2ms/step - loss: 24710.3594 - val_loss: 20242.7207\n",
            "Epoch 53/100\n",
            "78/78 [==============================] - 0s 3ms/step - loss: 26338.2266 - val_loss: 20187.9707\n",
            "Epoch 54/100\n",
            "78/78 [==============================] - 0s 3ms/step - loss: 26637.7539 - val_loss: 20192.9043\n",
            "Epoch 55/100\n",
            "78/78 [==============================] - 0s 2ms/step - loss: 25547.1367 - val_loss: 20225.5508\n",
            "Epoch 56/100\n",
            "78/78 [==============================] - 0s 3ms/step - loss: 25254.0547 - val_loss: 20145.4551\n",
            "Epoch 57/100\n",
            "78/78 [==============================] - 0s 3ms/step - loss: 25300.8789 - val_loss: 20141.8398\n",
            "Epoch 58/100\n",
            "78/78 [==============================] - 0s 3ms/step - loss: 25262.7070 - val_loss: 20163.8457\n",
            "Epoch 59/100\n",
            "78/78 [==============================] - 0s 2ms/step - loss: 26084.7383 - val_loss: 20089.2871\n",
            "Epoch 60/100\n",
            "78/78 [==============================] - 0s 2ms/step - loss: 25869.3379 - val_loss: 20150.1465\n",
            "Epoch 61/100\n",
            "78/78 [==============================] - 0s 3ms/step - loss: 23977.9766 - val_loss: 20120.4141\n",
            "Epoch 62/100\n",
            "78/78 [==============================] - 0s 2ms/step - loss: 25274.1602 - val_loss: 20138.2207\n",
            "Epoch 63/100\n",
            "78/78 [==============================] - 0s 2ms/step - loss: 25482.0781 - val_loss: 20071.9844\n",
            "Epoch 64/100\n",
            "78/78 [==============================] - 0s 2ms/step - loss: 26034.9961 - val_loss: 20050.2402\n",
            "Epoch 65/100\n",
            "78/78 [==============================] - 0s 2ms/step - loss: 24562.6895 - val_loss: 20060.5840\n",
            "Epoch 66/100\n",
            "78/78 [==============================] - 0s 2ms/step - loss: 24905.9629 - val_loss: 20032.6504\n",
            "Epoch 67/100\n",
            "78/78 [==============================] - 0s 3ms/step - loss: 25995.7617 - val_loss: 20049.0547\n",
            "Epoch 68/100\n",
            "78/78 [==============================] - 0s 3ms/step - loss: 25319.1562 - val_loss: 20024.9141\n",
            "Epoch 69/100\n",
            "78/78 [==============================] - 0s 3ms/step - loss: 24312.2988 - val_loss: 20010.5117\n",
            "Epoch 70/100\n",
            "78/78 [==============================] - 0s 3ms/step - loss: 25362.5801 - val_loss: 20026.9844\n",
            "Epoch 71/100\n",
            "78/78 [==============================] - 0s 3ms/step - loss: 25463.3242 - val_loss: 20087.2480\n",
            "Epoch 72/100\n",
            "78/78 [==============================] - 0s 3ms/step - loss: 24376.3770 - val_loss: 20035.3906\n",
            "Epoch 73/100\n",
            "78/78 [==============================] - 0s 3ms/step - loss: 25264.6699 - val_loss: 20108.1777\n",
            "Epoch 74/100\n",
            "78/78 [==============================] - 0s 3ms/step - loss: 24790.6836 - val_loss: 20017.5664\n",
            "Epoch 75/100\n",
            "78/78 [==============================] - 0s 3ms/step - loss: 25048.8984 - val_loss: 20035.2500\n",
            "Epoch 76/100\n",
            "78/78 [==============================] - 0s 3ms/step - loss: 24776.9180 - val_loss: 20183.7129\n",
            "Epoch 77/100\n",
            "78/78 [==============================] - 0s 3ms/step - loss: 24653.3457 - val_loss: 20000.7891\n",
            "Epoch 78/100\n",
            "78/78 [==============================] - 0s 3ms/step - loss: 25099.8848 - val_loss: 20012.7812\n",
            "Epoch 79/100\n",
            "78/78 [==============================] - 0s 3ms/step - loss: 24670.7188 - val_loss: 20026.7812\n",
            "Epoch 80/100\n",
            "78/78 [==============================] - 0s 3ms/step - loss: 25764.6191 - val_loss: 20007.6953\n",
            "Epoch 81/100\n",
            "78/78 [==============================] - 0s 3ms/step - loss: 25307.2949 - val_loss: 19950.2285\n",
            "Epoch 82/100\n",
            "78/78 [==============================] - 0s 3ms/step - loss: 25215.0176 - val_loss: 20075.3438\n",
            "Epoch 83/100\n",
            "78/78 [==============================] - 0s 3ms/step - loss: 25689.7207 - val_loss: 19977.2168\n",
            "Epoch 84/100\n",
            "78/78 [==============================] - 0s 3ms/step - loss: 25034.4492 - val_loss: 20045.5508\n",
            "Epoch 85/100\n",
            "78/78 [==============================] - 0s 3ms/step - loss: 25007.6777 - val_loss: 19991.7402\n",
            "Epoch 86/100\n",
            "78/78 [==============================] - 0s 3ms/step - loss: 25311.3359 - val_loss: 19977.9492\n",
            "Epoch 87/100\n",
            "78/78 [==============================] - 0s 3ms/step - loss: 24308.3574 - val_loss: 20100.7402\n",
            "Epoch 88/100\n",
            "78/78 [==============================] - 0s 2ms/step - loss: 23847.5938 - val_loss: 20035.6035\n",
            "Epoch 89/100\n",
            "78/78 [==============================] - 0s 3ms/step - loss: 25609.9453 - val_loss: 20013.1133\n",
            "Epoch 90/100\n",
            "78/78 [==============================] - 0s 5ms/step - loss: 26464.9219 - val_loss: 20057.4277\n",
            "Epoch 91/100\n",
            "78/78 [==============================] - 0s 4ms/step - loss: 24975.8301 - val_loss: 20080.2422\n",
            "Epoch 92/100\n",
            "78/78 [==============================] - 0s 4ms/step - loss: 25215.8242 - val_loss: 19977.4707\n",
            "Epoch 93/100\n",
            "78/78 [==============================] - 0s 4ms/step - loss: 24227.8633 - val_loss: 19928.8086\n",
            "Epoch 94/100\n",
            "78/78 [==============================] - 0s 3ms/step - loss: 25353.4688 - val_loss: 19979.8418\n",
            "Epoch 95/100\n",
            "78/78 [==============================] - 0s 3ms/step - loss: 24762.8164 - val_loss: 19986.2480\n",
            "Epoch 96/100\n",
            "78/78 [==============================] - 0s 4ms/step - loss: 25017.0410 - val_loss: 20018.1230\n",
            "Epoch 97/100\n",
            "78/78 [==============================] - 0s 4ms/step - loss: 25558.6523 - val_loss: 19969.3320\n",
            "Epoch 98/100\n",
            "78/78 [==============================] - 0s 4ms/step - loss: 26336.6523 - val_loss: 19985.6328\n",
            "Epoch 99/100\n",
            "78/78 [==============================] - 0s 2ms/step - loss: 25209.1309 - val_loss: 19959.6992\n",
            "Epoch 100/100\n",
            "78/78 [==============================] - 0s 3ms/step - loss: 25122.1230 - val_loss: 19984.9727\n"
          ]
        }
      ]
    },
    {
      "cell_type": "markdown",
      "source": [
        "# Model Evaluation"
      ],
      "metadata": {
        "id": "16zXVfNuRcPX"
      }
    },
    {
      "cell_type": "markdown",
      "source": [
        "For the linear regression model, we calculated the mean squared error (MSE) and the R-squared value. The MSE for the linear regression model is 20,270.50 and the R-squared value is 0.63. The MSE is quite high, which indicates that the model's predictions are not very accurate. However, the R-squared value of 0.63 indicates that the model explains 63% of the variance in the data, which is moderately good.\n",
        "\n",
        "For the deep neural network regression model, we also calculated the mean squared error (MSE) and the R-squared value. The MSE for the deep neural network model is 18,109.85 and the R-squared value is 0.67. The MSE is lower than that of the linear regression model, indicating that the deep neural network model's predictions are more accurate. The R-squared value of 0.67 indicates that the model explains 67% of the variance in the data, which is slightly better than that of the linear regression model.\n",
        "\n",
        "Therefore, we can conclude that the deep neural network regression model outperforms the linear regression model in predicting the number of collisions on a particular day of the week. The deep neural network model's predictions are more accurate and explain a greater percentage of the variance in the data. This can provide valuable information to emergency services in optimizing their response staff.\n",
        "\n",
        "However, it is important to note that there may be other factors not included in the dataset that can affect the number of collisions on a particular day, such as road conditions, traffic volume, and human behavior. Therefore, the models' predictions should be used in conjunction with other relevant information to make informed decisions."
      ],
      "metadata": {
        "id": "WsJmXtSYSQyL"
      }
    },
    {
      "cell_type": "markdown",
      "source": [
        "#Model Evaluation Visualisation"
      ],
      "metadata": {
        "id": "LufHg_ahSQu_"
      }
    },
    {
      "cell_type": "markdown",
      "source": [],
      "metadata": {
        "id": "9aNVwEDsSQon"
      }
    },
    {
      "cell_type": "markdown",
      "source": [],
      "metadata": {
        "id": "WokhYrAASQft"
      }
    },
    {
      "cell_type": "markdown",
      "source": [],
      "metadata": {
        "id": "_MmZTIYdSQUc"
      }
    },
    {
      "cell_type": "markdown",
      "source": [],
      "metadata": {
        "id": "7CG6Z-hfRcFm"
      }
    }
  ]
}